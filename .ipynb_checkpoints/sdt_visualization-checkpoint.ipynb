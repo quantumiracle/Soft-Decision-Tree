{
 "cells": [
  {
   "cell_type": "code",
   "execution_count": 26,
   "metadata": {},
   "outputs": [
    {
     "name": "stdout",
     "output_type": "stream",
     "text": [
      "inner_nodes.linear.weight torch.Size([31, 9])\n",
      "leaf_nodes.weight torch.Size([4, 32])\n"
     ]
    }
   ],
   "source": [
    "import torch\n",
    "import torch.nn as nn\n",
    "from SDT import SDT\n",
    "from torch.utils import data\n",
    "from utils.dataset import Dataset\n",
    "import numpy as np\n",
    "from sdt_train import learner_args\n",
    "\n",
    "learner_args['depth']=5\n",
    "tree = SDT(learner_args)\n",
    "\n",
    "# for layer_weight, value in tree.state_dict().items():\n",
    "#     print(layer_weight, value.shape)\n",
    "    \n",
    "inner_nodes = tree.state_dict()['inner_nodes.linear.weight']\n",
    "leaf_nodes = tree.state_dict()['leaf_nodes.weight']\n",
    "\n",
    "begin_idx = 0\n",
    "end_idx = 1\n",
    "\n",
    "for layer_idx in range(0, self.args['depth']):\n",
    "    begin_idx = end_idx\n",
    "    end_idx = begin_idx + 2 ** (layer_idx+1)"
   ]
  },
  {
   "cell_type": "code",
   "execution_count": null,
   "metadata": {},
   "outputs": [],
   "source": []
  }
 ],
 "metadata": {
  "kernelspec": {
   "display_name": "Python 3",
   "language": "python",
   "name": "python3"
  },
  "language_info": {
   "codemirror_mode": {
    "name": "ipython",
    "version": 3
   },
   "file_extension": ".py",
   "mimetype": "text/x-python",
   "name": "python",
   "nbconvert_exporter": "python",
   "pygments_lexer": "ipython3",
   "version": "3.6.8"
  }
 },
 "nbformat": 4,
 "nbformat_minor": 2
}
