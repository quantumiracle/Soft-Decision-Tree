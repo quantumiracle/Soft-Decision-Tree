{
 "cells": [
  {
   "cell_type": "markdown",
   "metadata": {},
   "source": [
    "# Visualize decision boundaries for SDT"
   ]
  },
  {
   "cell_type": "code",
   "execution_count": 24,
   "metadata": {},
   "outputs": [
    {
     "name": "stdout",
     "output_type": "stream",
     "text": [
      "(28, 9)\n"
     ]
    },
    {
     "data": {
      "text/plain": [
       "(28, 2)"
      ]
     },
     "execution_count": 24,
     "metadata": {},
     "output_type": "execute_result"
    }
   ],
   "source": [
    "from heuristic_evaluation import nodes_in_heuristic_tree, normalize\n",
    "import numpy as np\n",
    "from sklearn.manifold import TSNE\n",
    "%matplotlib inline\n",
    "import matplotlib.pyplot as plt\n",
    "import seaborn as sns\n",
    "\n",
    "print(np.array(nodes_in_heuristic_tree).shape)\n",
    "X = (nodes_in_heuristic_tree)\n",
    "X_embedded = TSNE(n_components=2).fit_transform(X)\n",
    "X_embedded.shape\n"
   ]
  },
  {
   "cell_type": "code",
   "execution_count": 25,
   "metadata": {},
   "outputs": [
    {
     "name": "stdout",
     "output_type": "stream",
     "text": [
      "(15, 9)\n",
      "(31, 9)\n",
      "(63, 9)\n"
     ]
    },
    {
     "data": {
      "image/png": "[encoded data removed]",
      "text/plain": [
       "<Figure size 432x288 with 1 Axes>"
      ]
     },
     "metadata": {
      "needs_background": "light"
     },
     "output_type": "display_data"
    }
   ],
   "source": [
    "from SDT import SDT\n",
    "for depth in range(4, 7):\n",
    "    learner_args = {'input_dim': 8,\n",
    "                    'output_dim': 4,\n",
    "                    'depth': depth,\n",
    "                    'lamda': 1e-3,  # 1e-3\n",
    "                    'lr': 1e-3,\n",
    "                    'weight_decay': 0.,  # 5e-4\n",
    "                    'batch_size': 1280,\n",
    "                    'epochs': 40,\n",
    "                    'cuda': False,\n",
    "                    'log_interval': 100,\n",
    "                    'exp_scheduler_gamma': 1.,\n",
    "                    'beta' : False,  # temperature \n",
    "                    'l1_regularization': False,  # for feature sparsity on nodes\n",
    "                    'greatest_path_probability': True  # when forwarding the SDT, \\\n",
    "                    # choose the leaf with greatest path probability or average over distributions of all leaves; \\\n",
    "                    # the former one has better explainability while the latter one achieves higher accuracy\n",
    "                    }\n",
    "    learner_args['model_path'] = './model/trees/sdt_'+str(learner_args['depth'])+'_id'+str(1)\n",
    "\n",
    "    tree = SDT(learner_args)\n",
    "    tree.load_model(learner_args['model_path'])\n",
    "\n",
    "    weights = tree.get_tree_weights(Bias=True)\n",
    "    print(weights.shape)\n",
    "    weights_embedded = TSNE(n_components=2).fit_transform((weights))\n",
    "    weights_embedded.shape\n",
    "    plt.scatter(weights_embedded[:, 0], weights_embedded[:, 1], label='SDT{}'.format(depth), s=25, marker=\"o\")\n",
    "\n",
    "plt.scatter(X_embedded[:, 0], X_embedded[:, 1], label='Heuristic', color='b', s=25, marker=\"o\")\n",
    "\n",
    "plt.xlabel('x')\n",
    "plt.ylabel('y')\n",
    "plt.title('Test')\n",
    "plt.legend()\n",
    "plt.show()"
   ]
  },
  {
   "cell_type": "code",
   "execution_count": 9,
   "metadata": {},
   "outputs": [
    {
     "name": "stdout",
     "output_type": "stream",
     "text": [
      "(2, 2)\n",
      "[8 8]\n"
     ]
    }
   ],
   "source": [
    "import numpy as np\n",
    "a=np.array([1,2])\n",
    "b=np.array([[2,2],[3,3]])\n",
    "print(b.shape)\n",
    "print(a@b)"
   ]
  },
  {
   "cell_type": "code",
   "execution_count": null,
   "metadata": {},
   "outputs": [],
   "source": []
  }
 ],
 "metadata": {
  "kernelspec": {
   "display_name": "Python 3",
   "language": "python",
   "name": "python3"
  },
  "language_info": {
   "codemirror_mode": {
    "name": "ipython",
    "version": 3
   },
   "file_extension": ".py",
   "mimetype": "text/x-python",
   "name": "python",
   "nbconvert_exporter": "python",
   "pygments_lexer": "ipython3",
   "version": "3.6.8"
  }
 },
 "nbformat": 4,
 "nbformat_minor": 2
}
