{
 "cells": [
  {
   "cell_type": "markdown",
   "metadata": {},
   "source": [
    "# Comparison of Discretization"
   ]
  },
  {
   "cell_type": "code",
   "execution_count": 20,
   "metadata": {},
   "outputs": [
    {
     "name": "stdout",
     "output_type": "stream",
     "text": [
      "dict_keys(['Incremental $\\\\beta$', '$\\\\lambda=0.001$', '$\\\\lambda=0.01$', '$\\\\lambda=0.1$', '$\\\\lambda=-0.001$', '$\\\\lambda=-0.01$', '$\\\\lambda=-0.1$']) dict_values([[[95.3463, 40.0749], [95.2769, 33.691], [96.8738, 41.1405]], [[96.3338, 30.1326], [97.3546, 22.3838], [97.4299, 30.9276]], [[96.9481, 32.126], [96.6083, 40.8076], [96.8324, 52.6007]], [[96.4059, 56.5198], [96.1305, 56.3716], [94.3857, 28.3316]], [[95.6848, 19.0138], [93.21, 36.5889], [93.7074, 20.3705]], [[89.3995, 51.514], [91.2274, 18.3252], [92.1816, 37.3019]], [[78.2558, 51.514], [74.2964, 5.4169], [79.6705, 51.514]]])\n"
     ]
    }
   ],
   "source": [
    "accuracy_dict = {\n",
    "    r'Incremental $\\beta$':[[95.3463, 40.0749],\n",
    "             [95.2769, 33.6910],\n",
    "             [96.8738, 41.1405]],\n",
    "\n",
    "    '$\\lambda=0.001$':[[96.3338, 30.1326],\n",
    "            [97.3546, 22.3838],\n",
    "            [97.4299, 30.9276]],\n",
    "\n",
    "    '$\\lambda=0.01$':[[96.9481, 32.1260],\n",
    "            [96.6083, 40.8076],\n",
    "            [96.8324, 52.6007]],\n",
    "                  \n",
    "    '$\\lambda=0.1$':[[96.4059, 56.5198],\n",
    "            [96.1305, 56.3716],\n",
    "            [94.3857, 28.3316]],\n",
    "                  \n",
    "    '$\\lambda=-0.001$':[[95.6848, 19.0138],\n",
    "            [93.2100, 36.5889],\n",
    "            [93.7074, 20.3705]],\n",
    "\n",
    "    '$\\lambda=-0.01$':[[89.3995, 51.5140],\n",
    "            [91.2274, 18.3252],\n",
    "            [92.1816, 37.3019]],\n",
    "                  \n",
    "    '$\\lambda=-0.1$':[[78.2558, 51.5140],\n",
    "            [74.2964, 5.4169],\n",
    "            [79.6705 , 51.5140]]\n",
    "\n",
    "                 }\n",
    "\n",
    "print(accuracy_dict.keys(), accuracy_dict.values())"
   ]
  },
  {
   "cell_type": "code",
   "execution_count": 33,
   "metadata": {},
   "outputs": [
    {
     "data": {
      "image/png": "[encoded data removed]",
      "text/plain": [
       "<Figure size 648x360 with 1 Axes>"
      ]
     },
     "metadata": {
      "needs_background": "light"
     },
     "output_type": "display_data"
    }
   ],
   "source": [
    "import matplotlib.pyplot as plt\n",
    "import numpy as np\n",
    "\n",
    "accuracy = np.array([np.array(v)[:, 0] for v in accuracy_dict.values()])\n",
    "discretized_accuracy = np.array([np.array(v)[:, 1] for v in accuracy_dict.values()])\n",
    "\n",
    "accuracy_mean = np.mean(accuracy, axis=1)\n",
    "accuracy_std = np.std(accuracy, axis=1)\n",
    "discretized_accuracy_mean = np.mean(discretized_accuracy, axis=1)\n",
    "discretized_accuracy_std = np.std(discretized_accuracy, axis=1)\n",
    "\n",
    "x=np.arange(len(accuracy_dict.keys()))\n",
    "\n",
    "plt.figure(figsize=(9,5))\n",
    "ax = plt.subplot(111)\n",
    "wid=0.3\n",
    "ax.bar(x-wid/2, accuracy_mean, yerr=accuracy_std, width=wid, alpha=0.9, ecolor='black', capsize=5, align='center', label='Original Tree Accuracy')\n",
    "ax.bar(x+wid/2, discretized_accuracy_mean, yerr=discretized_accuracy_std, width=wid, alpha=0.9, ecolor='black', capsize=5, align='center', label='Discretized Tree Accuracy')\n",
    "# ax.xaxis_date()\n",
    "plt.legend(loc=3, fontsize=12)\n",
    "plt.grid()\n",
    "labels = accuracy_dict.keys()\n",
    "\n",
    "ax.set_xticks(x)\n",
    "ax.set_xticklabels(labels, rotation=30, fontsize=12)\n",
    "plt.ylabel('Accuracy (%)', fontsize=15)\n",
    "plt.savefig('Discretization_comparison.pdf', bbox_inches='tight')\n",
    "plt.show()\n"
   ]
  },
  {
   "cell_type": "code",
   "execution_count": 47,
   "metadata": {},
   "outputs": [
    {
     "data": {
      "text/plain": [
       "0.9933071490757153"
      ]
     },
     "execution_count": 47,
     "metadata": {},
     "output_type": "execute_result"
    }
   ],
   "source": [
    "import math\n",
    "\n",
    "def sigmoid(x):\n",
    "    return 1 / (1 + math.exp(-x))\n",
    "beta=100\n",
    "sigmoid(beta*0.05)"
   ]
  },
  {
   "cell_type": "code",
   "execution_count": 48,
   "metadata": {},
   "outputs": [
    {
     "name": "stdout",
     "output_type": "stream",
     "text": [
      "256.0\n"
     ]
    }
   ],
   "source": [
    "beta=1.\n",
    "for epoch in range(1, 41):\n",
    "    if epoch % 5 ==0:\n",
    "        beta = beta*2.\n",
    "print(beta)"
   ]
  },
  {
   "cell_type": "code",
   "execution_count": null,
   "metadata": {},
   "outputs": [],
   "source": []
  }
 ],
 "metadata": {
  "kernelspec": {
   "display_name": "Python 3",
   "language": "python",
   "name": "python3"
  },
  "language_info": {
   "codemirror_mode": {
    "name": "ipython",
    "version": 3
   },
   "file_extension": ".py",
   "mimetype": "text/x-python",
   "name": "python",
   "nbconvert_exporter": "python",
   "pygments_lexer": "ipython3",
   "version": "3.6.8"
  }
 },
 "nbformat": 4,
 "nbformat_minor": 2
}
