{
 "cells": [
  {
   "cell_type": "markdown",
   "metadata": {},
   "source": [
    "# Comparison of Discretization"
   ]
  },
  {
   "cell_type": "code",
   "execution_count": 5,
   "metadata": {},
   "outputs": [
    {
     "name": "stdout",
     "output_type": "stream",
     "text": [
      "dict_keys(['beta', 'lam0001', 'lam001', 'lam01', 'lam_0001', 'lam_001', 'lam_01']) dict_values([[[95.3463, 40.0749], [95.2769, 33.691], [96.8738, 41.1405]], [[96.3338, 30.1326], [97.3546, 22.3838], [97.4299, 30.9276]], [[96.9481, 32.126], [96.6083, 40.8076], [96.8324, 52.6007]], [[96.4059, 56.5198], [96.1305, 56.3716], [94.3857, 28.3316]], [[95.6848, 19.0138], [93.21, 36.5889], [93.7074, 20.3705]], [[89.3995, 51.514], [91.2274, 18.3252], [92.1816, 37.3019]], [[78.2558, 51.514], [74.2964, 5.4169], [79.6705, 51.514]]])\n"
     ]
    }
   ],
   "source": [
    "accuracy_dict = {\n",
    "    'beta':[[95.3463, 40.0749],\n",
    "             [95.2769, 33.6910],\n",
    "             [96.8738, 41.1405]],\n",
    "\n",
    "    'lam0001':[[96.3338, 30.1326],\n",
    "            [97.3546, 22.3838],\n",
    "            [97.4299, 30.9276]],\n",
    "\n",
    "    'lam001':[[96.9481, 32.1260],\n",
    "            [96.6083, 40.8076],\n",
    "            [96.8324, 52.6007]],\n",
    "                  \n",
    "    'lam01':[[96.4059, 56.5198],\n",
    "            [96.1305, 56.3716],\n",
    "            [94.3857, 28.3316]],\n",
    "                  \n",
    "    'lam_0001':[[95.6848, 19.0138],\n",
    "            [93.2100, 36.5889],\n",
    "            [93.7074, 20.3705]],\n",
    "\n",
    "    'lam_001':[[89.3995, 51.5140],\n",
    "            [91.2274, 18.3252],\n",
    "            [92.1816, 37.3019]],\n",
    "                  \n",
    "    'lam_01':[[78.2558, 51.5140],\n",
    "            [74.2964, 5.4169],\n",
    "            [79.6705 , 51.5140]]\n",
    "\n",
    "                 }\n",
    "\n",
    "print(accuracy_dict.keys(), accuracy_dict.values())"
   ]
  },
  {
   "cell_type": "code",
   "execution_count": 42,
   "metadata": {},
   "outputs": [
    {
     "data": {
      "image/png": "[encoded data removed]",
      "text/plain": [
       "<Figure size 576x432 with 1 Axes>"
      ]
     },
     "metadata": {
      "needs_background": "light"
     },
     "output_type": "display_data"
    }
   ],
   "source": [
    "import matplotlib.pyplot as plt\n",
    "import numpy as np\n",
    "\n",
    "accuracy = np.array([np.array(v)[:, 0] for v in accuracy_dict.values()])\n",
    "discretized_accuracy = np.array([np.array(v)[:, 1] for v in accuracy_dict.values()])\n",
    "\n",
    "accuracy_mean = np.mean(accuracy, axis=1)\n",
    "accuracy_std = np.std(accuracy, axis=1)\n",
    "discretized_accuracy_mean = np.mean(discretized_accuracy, axis=1)\n",
    "discretized_accuracy_std = np.std(discretized_accuracy, axis=1)\n",
    "\n",
    "x=np.arange(len(accuracy_dict.keys()))\n",
    "\n",
    "plt.figure(figsize=(8,6))\n",
    "ax = plt.subplot(111)\n",
    "wid=0.3\n",
    "ax.bar(x-wid/2, accuracy_mean, yerr=accuracy_std, width=wid, alpha=0.9, ecolor='black', capsize=5, align='center', label='Original Tree Accuracy')\n",
    "ax.bar(x+wid/2, discretized_accuracy_mean, yerr=discretized_accuracy_std, width=wid, alpha=0.9, ecolor='black', capsize=5, align='center', label='Discretized Tree Accuracy')\n",
    "# ax.xaxis_date()\n",
    "plt.legend()\n",
    "plt.grid()\n",
    "labels = accuracy_dict.keys()\n",
    "ax.set_xticks(x)\n",
    "ax.set_xticklabels(labels)\n",
    "plt.ylabel('Accuracy (%)')\n",
    "plt.savefig('Discretization_comparison.png')\n",
    "plt.show()\n"
   ]
  },
  {
   "cell_type": "markdown",
   "metadata": {},
   "source": [
    "## Accuracy of SDT, CDT, D-SDT and D-CDT on LunarLander "
   ]
  },
  {
   "cell_type": "code",
   "execution_count": 64,
   "metadata": {},
   "outputs": [
    {
     "name": "stdout",
     "output_type": "stream",
     "text": [
      "4 85.44666666666667 0.4080304999493122\n",
      "5 87.59333333333335 0.46621406623519734\n",
      "6 88.71333333333332 1.3340747938386197\n",
      "7 88.94333333333333 0.49546835306494547\n"
     ]
    }
   ],
   "source": [
    "sdt_acc = {'4': [85.88, 84.9, 85.56],\n",
    "           '5': [87.79, 86.95, 88.04],\n",
    "           '6': [88.91, 86.99, 90.24],\n",
    "           '7': [88.66, 88.53, 89.64]\n",
    "          }\n",
    "for key, v in sdt_acc.items():\n",
    "    print(key, np.mean(v), np.std(v))"
   ]
  },
  {
   "cell_type": "code",
   "execution_count": 60,
   "metadata": {},
   "outputs": [
    {
     "name": "stdout",
     "output_type": "stream",
     "text": [
      "22 88.17 1.591246890544228\n",
      "23 88.34333333333335 1.6798875623750016\n",
      "32 90.43666666666667 1.6806810788751343\n",
      "33 90.34999999999998 1.2206009448901272\n"
     ]
    }
   ],
   "source": [
    "cdt_acc = {'22': [89.68, 88.86, 85.97],\n",
    "           '23': [88.73, 86.12, 90.18],\n",
    "           '32': [91.65, 88.06, 91.6],\n",
    "           '33': [88.69, 90.77, 91.59]\n",
    "          }\n",
    "for key, v in cdt_acc.items():\n",
    "    print(key, np.mean(v), np.std(v))"
   ]
  },
  {
   "cell_type": "code",
   "execution_count": 65,
   "metadata": {},
   "outputs": [
    {
     "name": "stdout",
     "output_type": "stream",
     "text": [
      "4 54.78333333333333 10.105247261805236\n",
      "5 51.64333333333334 4.5113215604988985\n",
      "6 60.223333333333336 3.8710234076045333\n",
      "7 62.68000000000001 2.8014758015493664\n"
     ]
    }
   ],
   "source": [
    "discretized_sdt_acc = {'4': [64.72, 40.92, 58.71],\n",
    "           '5': [51.70, 46.09, 57.14],\n",
    "           '6': [55.54, 65.02, 60.11],\n",
    "           '7': [59.20, 62.78, 66.06]\n",
    "          }\n",
    "for key, v in discretized_sdt_acc.items():\n",
    "    print(key, np.mean(v), np.std(v))"
   ]
  },
  {
   "cell_type": "code",
   "execution_count": 62,
   "metadata": {},
   "outputs": [
    {
     "name": "stdout",
     "output_type": "stream",
     "text": [
      "22 77.98333333333333 2.4304503469293333\n",
      "23 70.15333333333334 2.2768594354700302\n",
      "32 72.17 8.311586290634699\n",
      "33 72.04233333333333 1.1564878824364002\n"
     ]
    }
   ],
   "source": [
    "discretized_cdt_acc = {'22': [80.04, 79.34, 74.57],\n",
    "                       '23': [68.96, 73.34, 68.16],\n",
    "                       '32': [78.69, 60.44, 77.38],\n",
    "                       '33': [70.71, 71.887, 73.53]\n",
    "                      }\n",
    "for key, v in discretized_cdt_acc.items():\n",
    "    print(key, np.mean(v), np.std(v))"
   ]
  },
  {
   "cell_type": "markdown",
   "metadata": {},
   "source": [
    "## Accuracy of SDT, CDT, D-SDT and D-CDT on LunarLander "
   ]
  },
  {
   "cell_type": "code",
   "execution_count": 2,
   "metadata": {},
   "outputs": [
    {
     "name": "stdout",
     "output_type": "stream",
     "text": [
      "2 89.16000000000001 6.272049106950611\n",
      "3 92.91000000000001 0.9309135298189628\n",
      "4 88.54333333333334 3.5586264516274\n"
     ]
    }
   ],
   "source": [
    "import numpy as np\n",
    "sdt_acc = {'2': [93.58, 93.61, 80.29],\n",
    "           '3': [94.04, 91.76, 92.93],\n",
    "           '4': [83.89, 92.53, 89.21],\n",
    "          }\n",
    "for key, v in sdt_acc.items():\n",
    "    print(key, np.mean(v), np.std(v))"
   ]
  },
  {
   "cell_type": "code",
   "execution_count": 3,
   "metadata": {},
   "outputs": [
    {
     "name": "stdout",
     "output_type": "stream",
     "text": [
      "12 95.41666666666667 1.119831336506627\n",
      "21 95.55333333333334 0.0664997911442034\n",
      "22 96.58999999999999 0.8864912107103292\n"
     ]
    }
   ],
   "source": [
    "cdt_acc = {'12': [95.03, 94.28, 96.94],\n",
    "           '21': [95.59, 95.46, 95.61],\n",
    "           '22': [95.37, 97.45, 96.95],\n",
    "          }\n",
    "for key, v in cdt_acc.items():\n",
    "    print(key, np.mean(v), np.std(v))"
   ]
  },
  {
   "cell_type": "code",
   "execution_count": null,
   "metadata": {},
   "outputs": [],
   "source": []
  }
 ],
 "metadata": {
  "kernelspec": {
   "display_name": "Python 3",
   "language": "python",
   "name": "python3"
  },
  "language_info": {
   "codemirror_mode": {
    "name": "ipython",
    "version": 3
   },
   "file_extension": ".py",
   "mimetype": "text/x-python",
   "name": "python",
   "nbconvert_exporter": "python",
   "pygments_lexer": "ipython3",
   "version": "3.6.8"
  }
 },
 "nbformat": 4,
 "nbformat_minor": 2
}
