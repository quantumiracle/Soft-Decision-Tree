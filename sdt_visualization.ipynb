{
 "cells": [
  {
   "cell_type": "code",
   "execution_count": 2,
   "metadata": {
    "scrolled": true
   },
   "outputs": [
    {
     "name": "stdout",
     "output_type": "stream",
     "text": [
      "tensor([[-0.1171, -0.0783,  0.1687, -0.1234,  0.2853,  0.0426, -0.1773, -0.1596,\n",
      "          0.1021]])\n",
      "tensor([[-0.1917, -0.3272,  0.2618, -0.1237,  0.2995,  0.0664,  0.1746,  0.1112,\n",
      "         -0.2843],\n",
      "        [ 0.3086, -0.0770, -0.0686,  0.0974, -0.1494,  0.3106,  0.0823, -0.1762,\n",
      "          0.1523]])\n",
      "tensor([[ 0.0065,  0.1377,  0.2026, -0.1703,  0.2634, -0.1045, -0.2916, -0.0411,\n",
      "          0.2966],\n",
      "        [-0.0119, -0.2444, -0.2529,  0.0334, -0.3090, -0.0870, -0.3063, -0.1637,\n",
      "         -0.1708],\n",
      "        [ 0.2364,  0.0115, -0.2835,  0.3311, -0.1806, -0.2963, -0.1432, -0.2028,\n",
      "         -0.0045],\n",
      "        [-0.0155, -0.2072, -0.0548, -0.2329, -0.0898,  0.0816, -0.2549,  0.0020,\n",
      "          0.1453]])\n"
     ]
    }
   ],
   "source": [
    "import torch\n",
    "import torch.nn as nn\n",
    "from SDT import SDT\n",
    "from torch.utils import data\n",
    "from utils.dataset import Dataset\n",
    "import numpy as np\n",
    "from sdt_train import learner_args\n",
    "\n",
    "learner_args['depth']=3\n",
    "tree = SDT(learner_args)\n",
    "\n",
    "# for layer_weight, value in tree.state_dict().items():\n",
    "#     print(layer_weight, value.shape)\n",
    "    \n",
    "inner_nodes = tree.state_dict()['inner_nodes.linear.weight']\n",
    "leaf_nodes = tree.state_dict()['leaf_nodes.weight']\n",
    "\n",
    "begin_idx = 0\n",
    "end_idx = 1\n",
    "\n",
    "for layer_idx in range(0, learner_args['depth']):\n",
    "    print(inner_nodes[begin_idx:end_idx])\n",
    "    begin_idx = end_idx\n",
    "    end_idx = begin_idx + 2 ** (layer_idx+1)"
   ]
  },
  {
   "cell_type": "code",
   "execution_count": 22,
   "metadata": {},
   "outputs": [
    {
     "name": "stdout",
     "output_type": "stream",
     "text": [
      "tensor([2., 3.]) tensor([1, 1])\n"
     ]
    },
    {
     "data": {
      "text/plain": [
       "tensor([[1., 0.],\n",
       "        [2., 0.]])"
      ]
     },
     "execution_count": 22,
     "metadata": {},
     "output_type": "execute_result"
    }
   ],
   "source": [
    "a=torch.Tensor([[1,2],[2,3]])\n",
    "v, i = torch.max(a, 1)\n",
    "print(v,i)\n",
    "a.scatter_(1, i.view(-1,1), 0.)"
   ]
  },
  {
   "cell_type": "code",
   "execution_count": null,
   "metadata": {},
   "outputs": [],
   "source": []
  }
 ],
 "metadata": {
  "kernelspec": {
   "display_name": "Python 3",
   "language": "python",
   "name": "python3"
  },
  "language_info": {
   "codemirror_mode": {
    "name": "ipython",
    "version": 3
   },
   "file_extension": ".py",
   "mimetype": "text/x-python",
   "name": "python",
   "nbconvert_exporter": "python",
   "pygments_lexer": "ipython3",
   "version": "3.6.8"
  }
 },
 "nbformat": 4,
 "nbformat_minor": 2
}
